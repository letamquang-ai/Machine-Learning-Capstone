{
 "cells": [
  {
   "cell_type": "code",
   "execution_count": 28,
   "id": "033c3191-8aa2-4879-8b24-a822893ae5c5",
   "metadata": {},
   "outputs": [],
   "source": [
    "import pandas as pd\n",
    "import numpy as np\n",
    "import pandas_datareader.data as web\n",
    "import yfinance as yf\n",
    "import os\n",
    "\n",
    "def fetch_eia_data(filename, start_date, end_date):\n",
    "    df = pd.read_excel(filename, sheet_name=1, skiprows=2)\n",
    "    \n",
    "    if not pd.api.types.is_datetime64_any_dtype(df['Date']):\n",
    "        df['Date'] = pd.to_datetime(df['Date'], format='%b %d, %Y')\n",
    "    \n",
    "    df = df[(df['Date'] >= start_date) & (df['Date'] <= end_date)]\n",
    "    return df"
   ]
  },
  {
   "cell_type": "code",
   "execution_count": 29,
   "id": "c979a3b0-e5c5-4f3c-b844-44e838351aeb",
   "metadata": {},
   "outputs": [],
   "source": [
    "#from google.colab import drive\n",
    "\n",
    "#drive.mount(\"/content/drive\")\n",
    "#drive.mount(\"/content/drive\", force_remount=True)"
   ]
  },
  {
   "cell_type": "code",
   "execution_count": 45,
   "id": "4a5ff8f8-e080-4bac-94cb-ea5b8089ecc9",
   "metadata": {},
   "outputs": [
    {
     "name": "stderr",
     "output_type": "stream",
     "text": [
      "[*********************100%***********************]  1 of 1 completed\n",
      "[*********************100%***********************]  1 of 1 completed\n",
      "[*********************100%***********************]  1 of 1 completed\n",
      "[*********************100%***********************]  1 of 1 completed\n"
     ]
    },
    {
     "name": "stdout",
     "output_type": "stream",
     "text": [
      "Ticker      Natural_Gas_Spot_Price\n",
      "Date                              \n",
      "2024-01-02                   2.568\n",
      "2024-01-03                   2.668\n",
      "2024-01-04                   2.821\n",
      "2024-01-05                   2.893\n",
      "2024-01-08                   2.980\n",
      "...                            ...\n",
      "2025-05-06                   3.463\n",
      "2025-05-07                   3.621\n",
      "2025-05-08                   3.592\n",
      "2025-05-09                   3.795\n",
      "2025-05-12                   3.646\n",
      "\n",
      "[342 rows x 1 columns]\n",
      "Dataset compiled and saved to 'compiled_dataset.csv'.\n"
     ]
    },
    {
     "name": "stderr",
     "output_type": "stream",
     "text": [
      "C:\\Users\\Le Tam Quang\\AppData\\Roaming\\Python\\Python311\\site-packages\\pandas\\core\\arraylike.py:399: RuntimeWarning: divide by zero encountered in log\n",
      "  result = getattr(ufunc, method)(*inputs, **kwargs)\n"
     ]
    }
   ],
   "source": [
    "start_date = '2024-01-01'\n",
    "end_date = '2025-05-13'\n",
    "\n",
    "DATA_DIR = \"data\"  # Local folder\n",
    "os.makedirs(DATA_DIR, exist_ok=True)  # Create if missing\n",
    "\n",
    "# Path to your local file\n",
    "DATASET_EIA = os.path.join(DATA_DIR, \"RNGWHHDd.xls\")\n",
    "\n",
    "# Fetch Natural Gas Spot Prices\n",
    "natural_gas_prices = fetch_eia_data(DATASET_EIA, start_date, end_date)\n",
    "\n",
    "# Using Yahoo Finance as a fallback for natural gas prices\n",
    "natural_gas_yf = yf.download('NG=F', start=start_date, end=end_date)['Close']\n",
    "df = pd.DataFrame(natural_gas_yf).rename(columns={'NG=F': 'Natural_Gas_Spot_Price'}) \n",
    "\n",
    "# Fetch additional economic variables using Yahoo Finance and FRED\n",
    "indices = {\n",
    "    '^GSPC': 'S&P 500',\n",
    "    '^DJI': 'Dow Jones Industrial Average',\n",
    "    'EURUSD=X': 'EUR/USD Exchange Rate',\n",
    "    'NASDAQCOM': 'NASDAQ Composite',\n",
    "    'DEXJPUS': 'JPY/USD',\n",
    "    'DEXUSUK': 'USD/GBP',\n",
    "    'DCOILWTICO': 'WTI Spot Price',\n",
    "    'FEDFUNDS': 'Federal Funds Rate',\n",
    "    'T5YIE': '5-Year Breakeven Inflation Rate',\n",
    "    'T10YIE': '10-Year Breakeven Inflation Rate',\n",
    "    'GS1': '1-Year Treasury Rate',\n",
    "    'GS10': '10-Year Treasury Rate',\n",
    "    'MPRIME': 'Prime Rate'\n",
    "} \n",
    "\n",
    "# Fetch from Yahoo Finance\n",
    "for index, name in indices.items():\n",
    "    if index.startswith('^') or index.endswith('=X'):\n",
    "        df[name] = yf.download(index, start=start_date, end=end_date)['Close']\n",
    "\n",
    "# Fetch from FRED\n",
    "for index, name in indices.items():\n",
    "    if not (index.startswith('^') or index.endswith('=X')):\n",
    "        df[name] = web.DataReader(index, 'fred', start_date, end_date)\n",
    "\n",
    "# Calculating Momentum and Moving Averages\n",
    "df['Momentum_5'] = df['Natural_Gas_Spot_Price'].rolling(window=5).apply(lambda x: (np.diff(x) > 0).sum(), raw=True)\n",
    "df['Momentum_10'] = df['Natural_Gas_Spot_Price'].rolling(window=10).apply(lambda x: (np.diff(x) > 0).sum(), raw=True)\n",
    "df['MA_5'] = df['Natural_Gas_Spot_Price'].rolling(window=5).mean()\n",
    "df['MA_10'] = df['Natural_Gas_Spot_Price'].rolling(window=10).mean()\n",
    "\n",
    "# Applying natural logarithm to all columns except interest rates\n",
    "for column in df.columns:\n",
    "    if 'Rate' not in column:\n",
    "        df[column] = np.log(df[column])\n",
    "\n",
    "# Handling any infinities or NaNs that arise from logarithmic transformation or empty data points\n",
    "df.replace([np.inf, -np.inf], np.nan, inplace=True)\n",
    "df.ffill(inplace=True) # Forward fill\n",
    "\n",
    "df = df.iloc[10:]\n",
    "# Export to CSV\n",
    "df.to_csv(os.path.join(DATA_DIR, 'compiled_dataset.csv'), index=True)\n",
    "\n",
    "print(\"Dataset compiled and saved to 'compiled_dataset.csv'.\")"
   ]
  },
  {
   "cell_type": "code",
   "execution_count": null,
   "id": "dc72180c-389b-44ba-b903-fb9b5e8772db",
   "metadata": {},
   "outputs": [],
   "source": []
  }
 ],
 "metadata": {
  "kernelspec": {
   "display_name": "Python 3 (ipykernel)",
   "language": "python",
   "name": "python3"
  },
  "language_info": {
   "codemirror_mode": {
    "name": "ipython",
    "version": 3
   },
   "file_extension": ".py",
   "mimetype": "text/x-python",
   "name": "python",
   "nbconvert_exporter": "python",
   "pygments_lexer": "ipython3",
   "version": "3.11.5"
  }
 },
 "nbformat": 4,
 "nbformat_minor": 5
}
