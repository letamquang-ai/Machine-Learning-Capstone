{
 "cells": [
  {
   "cell_type": "code",
   "execution_count": 25,
   "id": "203e4f03-2e7d-4902-b7e8-cb57d097f3a7",
   "metadata": {},
   "outputs": [],
   "source": [
    "import pandas as pd\n",
    "import numpy as np\n",
    "from fredapi import Fred\n",
    "import yfinance as yf\n",
    "import os\n",
    "\n",
    "start_date = '2003-01-01'\n",
    "end_date = '2025-05-16'\n",
    "fred = Fred(api_key='paste fred api key here')\n",
    "\n",
    "def fetch_eia_data(filename, start_date, end_date):\n",
    "    df = pd.read_excel(filename, sheet_name=1, skiprows=2)\n",
    "    \n",
    "    if not pd.api.types.is_datetime64_any_dtype(df['Date']):\n",
    "        df['Date'] = pd.to_datetime(df['Date'], format='%b %d, %Y')\n",
    "    \n",
    "    df = df[(df['Date'] >= start_date) & (df['Date'] <= end_date)]\n",
    "    return df"
   ]
  },
  {
   "cell_type": "code",
   "execution_count": 26,
   "id": "11b1cebb-1bf6-4f3e-a6a1-a7742f7074e0",
   "metadata": {},
   "outputs": [
    {
     "name": "stderr",
     "output_type": "stream",
     "text": [
      "[*********************100%***********************]  1 of 1 completed\n",
      "[*********************100%***********************]  1 of 1 completed\n",
      "[*********************100%***********************]  1 of 1 completed\n",
      "[*********************100%***********************]  1 of 1 completed\n"
     ]
    }
   ],
   "source": [
    "DATA_DIR = \"data\"  # Local folder\n",
    "os.makedirs(DATA_DIR, exist_ok=True)  # Create if missing\n",
    "\n",
    "# Path to your local file\n",
    "DATASET_EIA = os.path.join(DATA_DIR, \"RNGWHHDd.xls\")\n",
    "\n",
    "# Fetch Natural Gas Spot Prices\n",
    "natural_gas_prices = fetch_eia_data(DATASET_EIA, start_date, end_date)\n",
    "df = pd.DataFrame(natural_gas_prices).rename(columns={'Henry Hub Natural Gas Spot Price (Dollars per Million Btu)': 'henry_hub_nat_gas_price'}).set_index('Date') \n",
    "\n",
    "df['cushing_crude_oil_price'] = yf.download('CL=F', start_date, end_date)['Close']\n",
    "\n",
    "df['Momentum_5'] = df['cushing_crude_oil_price'].rolling(window=5).apply(lambda x: (np.diff(x) > 0).sum(), raw=True)\n",
    "df['Momentum_10'] = df['cushing_crude_oil_price'].rolling(window=10).apply(lambda x: (np.diff(x) > 0).sum(), raw=True)\n",
    "df['MA_5'] = df['cushing_crude_oil_price'].rolling(window=5).mean()\n",
    "df['MA_10'] = df['cushing_crude_oil_price'].rolling(window=10).mean()\n",
    "\n",
    "df['dow_jones_adj_close_price'] = yf.download('^DJI', start=start_date, end=end_date)['Close']\n",
    "df['nasdaq_adj_close_price'] = fred.get_series('NASDAQCOM', observation_start=start_date, observation_end=end_date)\n",
    "df['sp_adj_close_price'] = yf.download('^GSPC', start=start_date, end=end_date)['Close']\n",
    "\n",
    "df['eur_to_usd_exchange_rate'] = yf.download('EURUSD=X', start=start_date, end=end_date)['Close']\n",
    "df['usd_to_uk_exchange_rate'] = fred.get_series('DEXUSUK', observation_start=start_date, observation_end=end_date)\n",
    "df['jpy_to_usd_exchange_rate'] = fred.get_series('DEXJPUS', observation_start=start_date, observation_end=end_date)\n",
    "\n",
    "daily_index = pd.date_range(start=start_date, end=end_date, freq='D')\n",
    "df['federal_funds_rate'] = fred.get_series('FEDFUNDS', observation_start=start_date, observation_end=end_date).resample('D').ffill().reindex(daily_index, method='ffill')\n",
    "df['bank_prime_loan_rate'] = fred.get_series('DPRIME', observation_start=start_date, observation_end=end_date)\n",
    "df['treasury_1_year_rate'] = fred.get_series('GS1', observation_start=start_date, observation_end=end_date).resample('D').ffill().reindex(daily_index, method='ffill')\n",
    "df['treasury_10_year_rate'] = fred.get_series('GS10', observation_start=start_date, observation_end=end_date).resample('D').ffill().reindex(daily_index, method='ffill')\n",
    "\n",
    "df['breakeven_inflation_5_year_rate'] = fred.get_series('T5YIE', observation_start=start_date, observation_end=end_date)\n",
    "df['breakeven_inflation_10_year_rate'] = fred.get_series('T10YIE', observation_start=start_date, observation_end=end_date)"
   ]
  },
  {
   "cell_type": "code",
   "execution_count": 27,
   "id": "dce380c5-947d-49f6-b566-efd3b836d131",
   "metadata": {},
   "outputs": [
    {
     "name": "stderr",
     "output_type": "stream",
     "text": [
      "C:\\Users\\Le Tam Quang\\AppData\\Roaming\\Python\\Python311\\site-packages\\pandas\\core\\arraylike.py:399: RuntimeWarning: invalid value encountered in log\n",
      "  result = getattr(ufunc, method)(*inputs, **kwargs)\n",
      "C:\\Users\\Le Tam Quang\\AppData\\Roaming\\Python\\Python311\\site-packages\\pandas\\core\\arraylike.py:399: RuntimeWarning: divide by zero encountered in log\n",
      "  result = getattr(ufunc, method)(*inputs, **kwargs)\n"
     ]
    },
    {
     "name": "stdout",
     "output_type": "stream",
     "text": [
      "Dataset compiled and saved to 'compiled_dataset.csv'.\n"
     ]
    }
   ],
   "source": [
    "# Applying natural logarithm to all columns except interest rates\n",
    "for column in df.columns:\n",
    "    if 'rate' not in column:\n",
    "        df[column] = np.log(df[column])\n",
    "\n",
    "# Handling any infinities or NaNs that arise from logarithmic transformation or empty data points\n",
    "df.replace([np.inf, -np.inf], np.nan, inplace=True)\n",
    "df.ffill(inplace=True) # Forward fill\n",
    "\n",
    "df = df.iloc[10:]\n",
    "# Export to CSV\n",
    "df.to_csv(os.path.join(DATA_DIR, 'compiled_dataset.csv'), index=True)\n",
    "\n",
    "print(\"Dataset compiled and saved to 'compiled_dataset.csv'.\")"
   ]
  },
  {
   "cell_type": "code",
   "execution_count": null,
   "id": "f8c34189-221f-4d94-9f11-0aba1255fb8a",
   "metadata": {},
   "outputs": [],
   "source": []
  }
 ],
 "metadata": {
  "kernelspec": {
   "display_name": "Python 3 (ipykernel)",
   "language": "python",
   "name": "python3"
  },
  "language_info": {
   "codemirror_mode": {
    "name": "ipython",
    "version": 3
   },
   "file_extension": ".py",
   "mimetype": "text/x-python",
   "name": "python",
   "nbconvert_exporter": "python",
   "pygments_lexer": "ipython3",
   "version": "3.11.5"
  }
 },
 "nbformat": 4,
 "nbformat_minor": 5
}
