{
 "cells": [
  {
   "cell_type": "code",
   "execution_count": 16,
   "id": "02cccc68-4a1d-4235-b2f1-080ba58fef64",
   "metadata": {},
   "outputs": [],
   "source": [
    "import pandas as pd\n",
    "import numpy as np\n",
    "import gradio as gr\n",
    "import matplotlib.pyplot as plt\n",
    "from sklearn.model_selection import cross_val_score, TimeSeriesSplit, learning_curve\n",
    "from sklearn.ensemble import BaggingRegressor, GradientBoostingRegressor\n",
    "from sklearn.linear_model import LinearRegression, HuberRegressor\n",
    "from sklearn.svm import SVR\n",
    "from sklearn.tree import DecisionTreeRegressor\n",
    "from sklearn.gaussian_process import GaussianProcessRegressor\n",
    "from sklearn.gaussian_process.kernels import RBF, RationalQuadratic, Matern, ExpSineSquared\n",
    "from sklearn.metrics import mean_squared_error, make_scorer\n",
    "from sklearn.preprocessing import StandardScaler, PolynomialFeatures"
   ]
  },
  {
   "cell_type": "code",
   "execution_count": 17,
   "id": "3814e74b-754c-46d0-a1d1-15c056f004f4",
   "metadata": {},
   "outputs": [],
   "source": [
    "df = pd.read_csv('compiled_dataset.csv', index_col=0, parse_dates=True)\n",
    "df = df.loc['2010-11-18':'2020-09-18']"
   ]
  },
  {
   "cell_type": "code",
   "execution_count": 33,
   "id": "437b71f8-5080-45ca-a402-c449239d5a5a",
   "metadata": {},
   "outputs": [],
   "source": [
    "# SPLIT TRAIN-TEST\n",
    "train_size = int(0.9 * len(df))\n",
    "\n",
    "X = df.drop(columns=['cushing_crude_oil_price'])\n",
    "y = df['cushing_crude_oil_price']\n",
    "\n",
    "X_train = df.iloc[:train_size].drop(columns=['cushing_crude_oil_price'])\n",
    "y_train = df.iloc[:train_size]['cushing_crude_oil_price']\n",
    "\n",
    "scaler = StandardScaler()\n",
    "X_train_scaled = scaler.fit_transform(X_train)\n",
    "X_scaled = scaler.transform(X)"
   ]
  },
  {
   "cell_type": "code",
   "execution_count": 34,
   "id": "cde5b32a-8452-4e6c-8dc8-3e35f74c3320",
   "metadata": {},
   "outputs": [],
   "source": [
    "# SET UP MODELS\n",
    "models = {\n",
    "    'Linear Regression': LinearRegression(),\n",
    "    'SVM Linear': SVR(kernel='linear'),\n",
    "    'SVM Quadratic': SVR(kernel='poly', degree=2),\n",
    "    'SVM Cubic': SVR(kernel='poly', degree=3),\n",
    "    'Fine Tree': DecisionTreeRegressor(max_depth=5),\n",
    "    'Medium Tree': DecisionTreeRegressor(max_depth=10),\n",
    "    'Coarse Tree': DecisionTreeRegressor(max_depth=15),\n",
    "    'Bagged Trees': BaggingRegressor(),\n",
    "    'Boosted Trees': GradientBoostingRegressor()\n",
    "}"
   ]
  },
  {
   "cell_type": "code",
   "execution_count": 40,
   "id": "3f86ec37-7982-48f9-a510-95ebb77bdc84",
   "metadata": {},
   "outputs": [
    {
     "name": "stdout",
     "output_type": "stream",
     "text": [
      "* Running on local URL:  http://127.0.0.1:7872\n",
      "* To create a public link, set `share=True` in `launch()`.\n"
     ]
    },
    {
     "data": {
      "text/html": [
       "<div><iframe src=\"http://127.0.0.1:7872/\" width=\"100%\" height=\"500\" allow=\"autoplay; camera; microphone; clipboard-read; clipboard-write;\" frameborder=\"0\" allowfullscreen></iframe></div>"
      ],
      "text/plain": [
       "<IPython.core.display.HTML object>"
      ]
     },
     "metadata": {},
     "output_type": "display_data"
    },
    {
     "data": {
      "text/plain": []
     },
     "execution_count": 40,
     "metadata": {},
     "output_type": "execute_result"
    }
   ],
   "source": [
    "rmse_score = lambda y, y_pred: np.sqrt(mean_squared_error(y, y_pred))\n",
    "\n",
    "def update_model(model_name):\n",
    "    # Get the selected model\n",
    "    model = models[model_name]\n",
    "        \n",
    "    # Fit the model\n",
    "    model.fit(X_train_scaled, y_train)\n",
    "    \n",
    "    y_pred = model.predict(X_scaled)\n",
    "    out_sample_rmse = rmse_score(y, y_pred)\n",
    "        \n",
    "    # Create plot data\n",
    "    plot_df = pd.DataFrame({\n",
    "        'date': y.index,\n",
    "        'Actual': y,\n",
    "        'Predicted': y_pred\n",
    "    })\n",
    "       \n",
    "    plot_data = pd.melt(plot_df, id_vars=['date'], \n",
    "                value_vars=['Actual', 'Predicted'],\n",
    "                var_name='variable', value_name='value')\n",
    "    \n",
    "    return (\n",
    "        f\"{out_sample_rmse:.4f}\",\n",
    "        gr.LinePlot(\n",
    "            value=plot_data,\n",
    "            x='date',\n",
    "            y='value',\n",
    "            color='variable',\n",
    "            title=f'Test results: {model_name}',\n",
    "            overlay_point=True,\n",
    "            tooltip=['date', 'variable', 'value'],\n",
    "            height=400\n",
    "        ),\n",
    "    )\n",
    "\n",
    "with gr.Blocks() as demo:\n",
    "    with gr.Row():\n",
    "        with gr.Column():\n",
    "            model_dropdown = gr.Dropdown(\n",
    "                choices=list(models.keys()),\n",
    "                value=list(models.keys())[0],\n",
    "                label=\"Model Selection\",\n",
    "                interactive=True\n",
    "            )\n",
    "            run_button = gr.Button(\"Run Model\", variant=\"primary\")\n",
    "            output_sample_text = gr.Textbox(label=\"RMSE\")\n",
    "        \n",
    "        plot = gr.LinePlot(interactive=True)\n",
    "\n",
    "    run_button.click(\n",
    "        update_model,\n",
    "        inputs=model_dropdown,\n",
    "        outputs=[output_sample_text, plot]\n",
    "    )\n",
    "\n",
    "demo.launch()"
   ]
  },
  {
   "cell_type": "code",
   "execution_count": null,
   "id": "ddf30747-49dd-499c-a3af-536f1357bb74",
   "metadata": {},
   "outputs": [],
   "source": []
  }
 ],
 "metadata": {
  "kernelspec": {
   "display_name": "Python 3 (ipykernel)",
   "language": "python",
   "name": "python3"
  },
  "language_info": {
   "codemirror_mode": {
    "name": "ipython",
    "version": 3
   },
   "file_extension": ".py",
   "mimetype": "text/x-python",
   "name": "python",
   "nbconvert_exporter": "python",
   "pygments_lexer": "ipython3",
   "version": "3.11.5"
  }
 },
 "nbformat": 4,
 "nbformat_minor": 5
}
